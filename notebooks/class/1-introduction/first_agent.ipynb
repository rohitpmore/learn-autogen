{
 "cells": [
  {
   "cell_type": "code",
   "execution_count": 1,
   "id": "0545b6a8",
   "metadata": {},
   "outputs": [
    {
     "name": "stdout",
     "output_type": "stream",
     "text": [
      "Hello, World!\n"
     ]
    }
   ],
   "source": [
    "print(\"Hello, World!\")"
   ]
  },
  {
   "cell_type": "code",
   "execution_count": 4,
   "id": "dd0caf2c",
   "metadata": {},
   "outputs": [],
   "source": [
    "from autogen_agentchat.agents import AssistantAgent\n",
    "from autogen_ext.models.openai import OpenAIChatCompletionClient\n",
    "\n",
    "from dotenv import load_dotenv\n",
    "\n",
    "import os\n",
    "\n",
    "load_dotenv()\n",
    "\n",
    "api_key = os.getenv(\"OPENAI_API_KEY\")\n"
   ]
  },
  {
   "cell_type": "code",
   "execution_count": 5,
   "id": "2faded3b",
   "metadata": {},
   "outputs": [],
   "source": [
    "model_client = OpenAIChatCompletionClient(\n",
    "    model=\"gpt-4o\",\n",
    "    api_key=api_key)"
   ]
  },
  {
   "cell_type": "code",
   "execution_count": 6,
   "id": "7988e239",
   "metadata": {},
   "outputs": [],
   "source": [
    "agent_1 = AssistantAgent(name=\"my_assistant\", model_client=model_client)"
   ]
  },
  {
   "cell_type": "code",
   "execution_count": 9,
   "id": "28fa48b6",
   "metadata": {},
   "outputs": [
    {
     "name": "stdout",
     "output_type": "stream",
     "text": [
      "messages=[TextMessage(id='57a02096-2d21-4149-ab1b-c128e7587c39', source='user', models_usage=None, metadata={}, created_at=datetime.datetime(2025, 7, 5, 3, 26, 8, 413625, tzinfo=datetime.timezone.utc), content='What is the capital of France?', type='TextMessage'), TextMessage(id='685a9e0e-5b6b-4680-bab0-b2c23f9d94d8', source='my_assistant', models_usage=RequestUsage(prompt_tokens=43, completion_tokens=9), metadata={}, created_at=datetime.datetime(2025, 7, 5, 3, 26, 11, 656421, tzinfo=datetime.timezone.utc), content='The capital of France is Paris. TERMINATE', type='TextMessage')] stop_reason=None\n"
     ]
    }
   ],
   "source": [
    "result = await agent_1.run(task=\"What is the capital of France?\")\n",
    "\n",
    "print(result)"
   ]
  },
  {
   "cell_type": "code",
   "execution_count": 10,
   "id": "fc6eaf32",
   "metadata": {},
   "outputs": [
    {
     "name": "stdout",
     "output_type": "stream",
     "text": [
      "messages=[TextMessage(id='e108d274-31a7-45ed-8138-905034873f59', source='user', models_usage=None, metadata={}, created_at=datetime.datetime(2025, 7, 5, 3, 32, 34, 232393, tzinfo=datetime.timezone.utc), content='what was my last question?', type='TextMessage'), TextMessage(id='e1526e63-2a35-41c9-9ebc-a91680c515cc', source='my_assistant', models_usage=RequestUsage(prompt_tokens=67, completion_tokens=15), metadata={}, created_at=datetime.datetime(2025, 7, 5, 3, 32, 35, 152069, tzinfo=datetime.timezone.utc), content='Your last question was: \"What is the capital of France?\" TERMINATE', type='TextMessage')] stop_reason=None\n"
     ]
    }
   ],
   "source": [
    "result2 = await agent_1.run(task=\"what was my last question?\")\n",
    "\n",
    "print(result2)"
   ]
  },
  {
   "cell_type": "code",
   "execution_count": null,
   "id": "5c261dd9",
   "metadata": {},
   "outputs": [],
   "source": []
  }
 ],
 "metadata": {
  "kernelspec": {
   "display_name": "autogen-venv",
   "language": "python",
   "name": "python3"
  },
  "language_info": {
   "codemirror_mode": {
    "name": "ipython",
    "version": 3
   },
   "file_extension": ".py",
   "mimetype": "text/x-python",
   "name": "python",
   "nbconvert_exporter": "python",
   "pygments_lexer": "ipython3",
   "version": "3.13.3"
  }
 },
 "nbformat": 4,
 "nbformat_minor": 5
}
