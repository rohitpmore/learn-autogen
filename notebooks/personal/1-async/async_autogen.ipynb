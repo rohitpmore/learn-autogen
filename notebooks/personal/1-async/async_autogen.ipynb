{
 "cells": [
  {
   "cell_type": "code",
   "execution_count": 26,
   "id": "c6208b8f",
   "metadata": {},
   "outputs": [
    {
     "name": "stdout",
     "output_type": "stream",
     "text": [
      "Hello World\n"
     ]
    }
   ],
   "source": [
    "print(\"Hello World\")"
   ]
  },
  {
   "cell_type": "code",
   "execution_count": 27,
   "id": "70dc5ab9",
   "metadata": {},
   "outputs": [],
   "source": [
    "import os\n",
    "from autogen_agentchat.agents import AssistantAgent\n",
    "from autogen_ext.models.openai import OpenAIChatCompletionClient\n",
    "\n",
    "from dotenv import load_dotenv\n",
    "load_dotenv()\n",
    "\n",
    "os.environ[\"OPENAI_API_KEY\"] = os.getenv(\"OPENAI_API_KEY\")\n"
   ]
  },
  {
   "cell_type": "code",
   "execution_count": 28,
   "id": "d0a53801",
   "metadata": {},
   "outputs": [],
   "source": [
    "model_client = OpenAIChatCompletionClient(model=\"gpt-4o-mini\")\n"
   ]
  },
  {
   "cell_type": "code",
   "execution_count": 29,
   "id": "a7050e64",
   "metadata": {},
   "outputs": [
    {
     "name": "stdout",
     "output_type": "stream",
     "text": [
      "[TaskResult(messages=[TextMessage(id='2d789cb1-63f6-433b-b9dc-51c06cc06d98', source='user', models_usage=None, metadata={}, created_at=datetime.datetime(2025, 7, 5, 18, 5, 48, 469964, tzinfo=datetime.timezone.utc), content='What is the capital of France?', type='TextMessage'), TextMessage(id='a29b03ec-319c-4638-8011-fba92627ef6b', source='georgraphy_expert', models_usage=RequestUsage(prompt_tokens=43, completion_tokens=9), metadata={}, created_at=datetime.datetime(2025, 7, 5, 18, 5, 50, 93623, tzinfo=datetime.timezone.utc), content='The capital of France is Paris. TERMINATE', type='TextMessage')], stop_reason=None), TaskResult(messages=[TextMessage(id='59f3ea2e-7030-4279-ae40-92bacb78eeb2', source='user', models_usage=None, metadata={}, created_at=datetime.datetime(2025, 7, 5, 18, 5, 48, 472638, tzinfo=datetime.timezone.utc), content='What is 2 + 2?', type='TextMessage'), TextMessage(id='11169241-dd4f-4f8c-ae5a-f25c03002a20', source='math_expert', models_usage=RequestUsage(prompt_tokens=44, completion_tokens=8), metadata={}, created_at=datetime.datetime(2025, 7, 5, 18, 5, 49, 838321, tzinfo=datetime.timezone.utc), content='2 + 2 equals 4.', type='TextMessage')], stop_reason=None), TaskResult(messages=[TextMessage(id='4460642a-1881-4fc1-8456-d6962d907e37', source='user', models_usage=None, metadata={}, created_at=datetime.datetime(2025, 7, 5, 18, 5, 48, 472760, tzinfo=datetime.timezone.utc), content='Solve world hunger in 5 words', type='TextMessage'), TextMessage(id='2c365e12-74c5-4b05-888a-f7b406917c4c', source='impossible_agent', models_usage=RequestUsage(prompt_tokens=43, completion_tokens=8), metadata={}, created_at=datetime.datetime(2025, 7, 5, 18, 5, 50, 28084, tzinfo=datetime.timezone.utc), content='Sustainable agriculture, equitable food distribution.', type='TextMessage')], stop_reason=None)]\n"
     ]
    }
   ],
   "source": [
    "import asyncio\n",
    "agent_1 = AssistantAgent(name=\"georgraphy_expert\", model_client=model_client)\n",
    "agent_2 = AssistantAgent(name=\"math_expert\", model_client=model_client)\n",
    "agent_3 = AssistantAgent(name=\"impossible_agent\", model_client=model_client)\n",
    "\n",
    "tasks = [\n",
    "    agent_1.run(task=\"What is the capital of France?\"),\n",
    "    agent_2.run(task=\"What is 2 + 2?\"),\n",
    "    agent_3.run(task=\"Solve world hunger in 5 words\")\n",
    "]\n",
    "\n",
    "results = await asyncio.gather(*tasks, return_exceptions=True)\n",
    "print(results)"
   ]
  },
  {
   "cell_type": "code",
   "execution_count": 30,
   "id": "848f7122",
   "metadata": {},
   "outputs": [
    {
     "name": "stdout",
     "output_type": "stream",
     "text": [
      "Task timed out\n"
     ]
    }
   ],
   "source": [
    "async def test_timeout():\n",
    "    try:\n",
    "        result = await asyncio.wait_for(\n",
    "            agent_1.run(task=\"Write a 10000-word essay\"),\n",
    "            timeout = 0.1\n",
    "        )\n",
    "    except asyncio.TimeoutError:\n",
    "        print(\"Task timed out\")\n",
    "    except Exception as e:\n",
    "        print(f\"An error occurred: {e}\")\n",
    "    else:\n",
    "        print(f\"Task completed with result: {result}\")\n",
    "\n",
    "await test_timeout()"
   ]
  },
  {
   "cell_type": "code",
   "execution_count": 31,
   "id": "022f387b",
   "metadata": {},
   "outputs": [
    {
     "name": "stdout",
     "output_type": "stream",
     "text": [
      "An error occurred: model_info is required when model name is not a valid OpenAI model\n"
     ]
    }
   ],
   "source": [
    "try:\n",
    "    bad_client = OpenAIChatCompletionClient(model=\"kahipan\", api_key=\"bad_key\")\n",
    "    bad_agent = AssistantAgent(name=\"bad_agent\", model_client=bad_client)\n",
    "    result = await bad_agent.run(task=\"What is the capital of France?\")\n",
    "except Exception as e:\n",
    "    print(f\"An error occurred: {e}\")\n",
    "else:\n",
    "    print(f\"Task completed with result: {result}\")"
   ]
  },
  {
   "cell_type": "code",
   "execution_count": 32,
   "id": "c2397967",
   "metadata": {},
   "outputs": [
    {
     "name": "stdout",
     "output_type": "stream",
     "text": [
      "Time taken: 1.0164320468902588 seconds for total 10 tasks for 20 concurrent tasks\n"
     ]
    }
   ],
   "source": [
    "import asyncio\n",
    "import time\n",
    "\n",
    "MAX_CONCURRENT_TASKS = 20\n",
    "semaphore = asyncio.Semaphore(MAX_CONCURRENT_TASKS)\n",
    "\n",
    "async def run_agent_with_limit(agent, task):\n",
    "    async with semaphore:\n",
    "        return await agent.run(task=task)\n",
    "    \n",
    "tasks = []\n",
    "\n",
    "for i in range(10):\n",
    "    agent = AssistantAgent(name=f\"agent_{i}\", model_client=model_client)\n",
    "    task = run_agent_with_limit(agent, f\"What is {i} + 1?\")\n",
    "    tasks.append(task)\n",
    "\n",
    "start_time = time.time()\n",
    "results = await asyncio.gather(*tasks)\n",
    "end_time = time.time()\n",
    "    \n",
    "print(f\"Time taken: {end_time - start_time} seconds for total {len(tasks)} tasks for {MAX_CONCURRENT_TASKS} concurrent tasks\")\n",
    "\n"
   ]
  },
  {
   "cell_type": "markdown",
   "id": "6f7e2736",
   "metadata": {},
   "source": [
    "### Time taken: 6.659104108810425 seconds for total 10 tasks for 1 concurrent tasks\n",
    "### Time taken: 1.3516910076141357 seconds for total 10 tasks for 5 concurrent tasks\n",
    "### Time taken: 0.9615240097045898 seconds for total 10 tasks for 10 concurrent tasks\n",
    "### Time taken: 0.6929941177368164 seconds for total 10 tasks for 20 concurrent tasks\n"
   ]
  },
  {
   "cell_type": "code",
   "execution_count": 33,
   "id": "56b848ae",
   "metadata": {},
   "outputs": [
    {
     "name": "stdout",
     "output_type": "stream",
     "text": [
      "Time taken for unlimited concurrent tasks: 0.7349882125854492 seconds\n",
      "Time taken for limited concurrent tasks: 0.6168410778045654 seconds\n"
     ]
    }
   ],
   "source": [
    "agents = []\n",
    "for i in range(10):\n",
    "    agent = AssistantAgent(name=f\"agent_{i}\", model_client=model_client)\n",
    "    agents.append(agent)\n",
    "\n",
    "start_time = time.time()\n",
    "\n",
    "results_unlimited = await asyncio.gather(*[\n",
    "    agent.run(task=f\"What is {i} + 1?\")\n",
    "    for i, agent in enumerate(agents)   \n",
    "])\n",
    "\n",
    "unlimited_time = time.time() - start_time\n",
    "\n",
    "start_time = time.time()\n",
    "\n",
    "results_limited = await asyncio.gather(*[\n",
    "    run_agent_with_limit(agent, f\"What is {i} + 1?\")\n",
    "    for i, agent in enumerate(agents)\n",
    "])\n",
    "\n",
    "limited_time = time.time() - start_time\n",
    "\n",
    "print(f\"Time taken for unlimited concurrent tasks: {unlimited_time} seconds\")\n",
    "print(f\"Time taken for limited concurrent tasks: {limited_time} seconds\")"
   ]
  },
  {
   "cell_type": "code",
   "execution_count": 34,
   "id": "4b6d3b2e",
   "metadata": {},
   "outputs": [
    {
     "name": "stdout",
     "output_type": "stream",
     "text": [
      "Starting task 1/50\n",
      "Starting task 2/50\n",
      "Starting task 3/50\n",
      "✅ Task 3 completed (1/50)\n",
      "✅ Task 1 completed (2/50)\n",
      "Starting task 4/50\n",
      "Starting task 5/50\n",
      "✅ Task 2 completed (3/50)\n",
      "Starting task 6/50\n",
      "✅ Task 5 completed (4/50)\n",
      "Starting task 7/50\n",
      "✅ Task 4 completed (5/50)\n",
      "Starting task 8/50\n",
      "✅ Task 8 completed (6/50)\n",
      "Starting task 9/50\n",
      "✅ Task 6 completed (7/50)\n",
      "Starting task 10/50\n",
      "✅ Task 7 completed (8/50)\n",
      "Starting task 11/50\n",
      "✅ Task 9 completed (9/50)\n",
      "Starting task 12/50\n",
      "✅ Task 10 completed (10/50)\n",
      "Starting task 13/50\n",
      "✅ Task 11 completed (11/50)\n",
      "Starting task 14/50\n",
      "✅ Task 12 completed (12/50)\n",
      "Starting task 15/50\n",
      "✅ Task 13 completed (13/50)\n",
      "Starting task 16/50\n",
      "✅ Task 15 completed (14/50)\n",
      "✅ Task 14 completed (15/50)\n",
      "Starting task 17/50\n",
      "Starting task 18/50\n",
      "✅ Task 16 completed (16/50)\n",
      "Starting task 19/50\n",
      "✅ Task 17 completed (17/50)\n",
      "Starting task 20/50\n",
      "✅ Task 18 completed (18/50)\n",
      "Starting task 21/50\n",
      "✅ Task 19 completed (19/50)\n",
      "Starting task 22/50\n",
      "✅ Task 20 completed (20/50)\n",
      "Starting task 23/50\n",
      "✅ Task 21 completed (21/50)\n",
      "Starting task 24/50\n",
      "✅ Task 23 completed (22/50)\n",
      "Starting task 25/50\n",
      "✅ Task 22 completed (23/50)\n",
      "Starting task 26/50\n",
      "✅ Task 24 completed (24/50)\n",
      "Starting task 27/50\n",
      "✅ Task 25 completed (25/50)\n",
      "Starting task 28/50\n",
      "✅ Task 26 completed (26/50)\n",
      "Starting task 29/50\n",
      "✅ Task 27 completed (27/50)\n",
      "Starting task 30/50\n",
      "✅ Task 28 completed (28/50)\n",
      "Starting task 31/50\n",
      "✅ Task 29 completed (29/50)\n",
      "Starting task 32/50\n",
      "✅ Task 30 completed (30/50)\n",
      "Starting task 33/50\n",
      "✅ Task 31 completed (31/50)\n",
      "Starting task 34/50\n",
      "✅ Task 32 completed (32/50)\n",
      "Starting task 35/50\n",
      "✅ Task 34 completed (33/50)\n",
      "Starting task 36/50\n",
      "✅ Task 33 completed (34/50)\n",
      "Starting task 37/50\n",
      "✅ Task 37 completed (35/50)\n",
      "Starting task 38/50\n",
      "✅ Task 36 completed (36/50)\n",
      "Starting task 39/50\n",
      "✅ Task 35 completed (37/50)\n",
      "Starting task 40/50\n",
      "✅ Task 39 completed (38/50)\n",
      "Starting task 41/50\n",
      "✅ Task 38 completed (39/50)\n",
      "Starting task 42/50\n",
      "✅ Task 40 completed (40/50)\n",
      "Starting task 43/50\n",
      "✅ Task 42 completed (41/50)\n",
      "Starting task 44/50\n",
      "✅ Task 41 completed (42/50)\n",
      "Starting task 45/50\n",
      "✅ Task 43 completed (43/50)\n",
      "Starting task 46/50\n",
      "✅ Task 45 completed (44/50)\n",
      "Starting task 47/50\n",
      "✅ Task 44 completed (45/50)\n",
      "Starting task 48/50\n",
      "✅ Task 46 completed (46/50)\n",
      "Starting task 49/50\n",
      "✅ Task 47 completed (47/50)\n",
      "Starting task 50/50\n",
      "✅ Task 48 completed (48/50)\n",
      "✅ Task 49 completed (49/50)\n",
      "✅ Task 50 completed (50/50)\n",
      "\n",
      "🎉 Summary:\n",
      "Total time: 7.21 seconds\n",
      "Successful: 50\n",
      "Failed: 0\n"
     ]
    }
   ],
   "source": [
    "import asyncio\n",
    "import time\n",
    "\n",
    "MAX_CONCURRENT_TASKS = 3\n",
    "semaphore = asyncio.Semaphore(MAX_CONCURRENT_TASKS)\n",
    "\n",
    "  # Progress tracking\n",
    "progress = {\"completed\": 0, \"total\": 50, \"errors\": 0, \"successes\": 0}\n",
    "\n",
    "async def run_agent_with_limit(agent, task, task_id):\n",
    "    async with semaphore:\n",
    "        try:\n",
    "            print(f\"Starting task {task_id + 1}/{progress['total']}\")\n",
    "            result = await agent.run(task=task)\n",
    "\n",
    "            # Update progress\n",
    "            progress[\"completed\"] += 1\n",
    "            print(f\"✅ Task {task_id + 1} completed ({progress['completed']}/{progress['total']})\")\n",
    "\n",
    "            return {\"success\": True, \"task_id\": task_id, \"result\": result}\n",
    "        except Exception as e:\n",
    "            progress[\"completed\"] += 1\n",
    "            print(f\"❌ Task {task_id + 1} failed ({progress['completed']}/{progress['total']}): {e}\")\n",
    "            return {\"success\": False, \"task_id\": task_id, \"error\": str(e)}\n",
    "\n",
    "  # Create tasks\n",
    "tasks = []\n",
    "for i in range(50):\n",
    "    agent = AssistantAgent(name=f\"agent_{i}\", model_client=model_client)\n",
    "    task = run_agent_with_limit(agent, f\"What is {i} + 1?\", i)\n",
    "    tasks.append(task)\n",
    "\n",
    "# Run with timing\n",
    "start_time = time.time()\n",
    "results = await asyncio.gather(*tasks)\n",
    "end_time = time.time()\n",
    "\n",
    "# Analyze results\n",
    "successful = [r for r in results if r[\"success\"]]\n",
    "failed = [r for r in results if not r[\"success\"]]\n",
    "\n",
    "print(f\"\\n🎉 Summary:\")\n",
    "print(f\"Total time: {end_time - start_time:.2f} seconds\")\n",
    "print(f\"Successful: {len(successful)}\")\n",
    "print(f\"Failed: {len(failed)}\")\n",
    "\n",
    "if failed:\n",
    "    print(f\"\\n❌ Failed tasks:\")\n",
    "    for f in failed:\n",
    "        print(f\"  Task {f['task_id']}: {f['error']}\")"
   ]
  },
  {
   "cell_type": "code",
   "execution_count": null,
   "id": "b25ae6b9",
   "metadata": {},
   "outputs": [],
   "source": []
  }
 ],
 "metadata": {
  "kernelspec": {
   "display_name": ".venv",
   "language": "python",
   "name": "python3"
  },
  "language_info": {
   "codemirror_mode": {
    "name": "ipython",
    "version": 3
   },
   "file_extension": ".py",
   "mimetype": "text/x-python",
   "name": "python",
   "nbconvert_exporter": "python",
   "pygments_lexer": "ipython3",
   "version": "3.13.3"
  }
 },
 "nbformat": 4,
 "nbformat_minor": 5
}
