{
 "cells": [
  {
   "cell_type": "code",
   "execution_count": 1,
   "id": "f2383849",
   "metadata": {},
   "outputs": [
    {
     "name": "stdout",
     "output_type": "stream",
     "text": [
      "Hello World\n"
     ]
    }
   ],
   "source": [
    "print(\"Hello World\")"
   ]
  },
  {
   "cell_type": "code",
   "execution_count": 3,
   "id": "46a8531c",
   "metadata": {},
   "outputs": [
    {
     "name": "stdout",
     "output_type": "stream",
     "text": [
      "Available strategies: ['creative', 'technical', 'efficient']\n"
     ]
    }
   ],
   "source": [
    "import sys\n",
    "sys.path.append(\"/Users/rohitmore/GitHub/learn-autogen\")\n",
    "from src.agents.factory import ModelClientFactory\n",
    "\n",
    "factory = ModelClientFactory()\n",
    "\n",
    "print(\"Available strategies:\", factory.get_available_strategies())\n",
    "\n",
    "creative_client = factory.create_client(\"creative\")\n",
    "technical_client = factory.create_client(\"technical\")\n",
    "efficient_client = factory.create_client(\"efficient\")\n",
    "\n"
   ]
  },
  {
   "cell_type": "code",
   "execution_count": 4,
   "id": "1cb93cb5",
   "metadata": {},
   "outputs": [
    {
     "name": "stdout",
     "output_type": "stream",
     "text": [
      "Creative agent: creative_writer\n",
      "Technical agent: tech_expert\n",
      "Custom agent: custom_helper\n"
     ]
    }
   ],
   "source": [
    "from src.agents.factory import ModelClientFactory\n",
    "from src.agents.builder import AgentBuilder\n",
    "\n",
    "factory = ModelClientFactory()\n",
    "builder = AgentBuilder(factory)\n",
    "\n",
    "creative_agent = builder.create_agent(\n",
    "    name = \"creative_writer\",\n",
    "    strategy = \"creative\",\n",
    "    system_message = \"You are a creative writer who uses vivid imagery.\"\n",
    ")\n",
    "\n",
    "technical_agent = builder.create_agent(\n",
    "    name = \"tech_expert\",\n",
    "    strategy = \"technical\",\n",
    "    system_message = \"You are a technical expert who explains concepts clearly.\"\n",
    ")\n",
    "\n",
    "print(\"Creative agent:\", creative_agent.name)\n",
    "print(\"Technical agent:\", technical_agent.name)\n",
    "\n",
    "custom_client = factory.create_custom_client(\"gpt-4o-mini\", 0.5)\n",
    "custom_agent = builder.create_custom_agent(\n",
    "    name = \"custom_helper\",\n",
    "    model_client = custom_client,\n",
    "    system_message = \"You are a helpful custom agent.\"\n",
    ")\n",
    "\n",
    "print(\"Custom agent:\", custom_agent.name)\n"
   ]
  },
  {
   "cell_type": "code",
   "execution_count": null,
   "id": "05e20fd1",
   "metadata": {},
   "outputs": [],
   "source": []
  }
 ],
 "metadata": {
  "kernelspec": {
   "display_name": ".venv",
   "language": "python",
   "name": "python3"
  },
  "language_info": {
   "codemirror_mode": {
    "name": "ipython",
    "version": 3
   },
   "file_extension": ".py",
   "mimetype": "text/x-python",
   "name": "python",
   "nbconvert_exporter": "python",
   "pygments_lexer": "ipython3",
   "version": "3.13.3"
  }
 },
 "nbformat": 4,
 "nbformat_minor": 5
}
