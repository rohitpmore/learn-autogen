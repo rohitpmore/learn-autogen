{
 "cells": [
  {
   "cell_type": "code",
   "execution_count": 1,
   "id": "fa0508f3",
   "metadata": {},
   "outputs": [
    {
     "name": "stdout",
     "output_type": "stream",
     "text": [
      "Hello World\n"
     ]
    }
   ],
   "source": [
    "print(\"Hello World\")"
   ]
  },
  {
   "cell_type": "code",
   "execution_count": null,
   "id": "e1151d23",
   "metadata": {},
   "outputs": [],
   "source": [
    "import os\n",
    "from dotenv import load_dotenv\n",
    "from autogen_agentchat.agents import AssistantAgent\n",
    "load_dotenv()\n",
    "sys.path.append(\"/Users/rohitmore/GitHub/learn-autogen\")\n",
    "from src.agents.factory import ModelClientFactory\n",
    "\n",
    "os.environ[\"OPENAI_API_KEY\"] = os.getenv(\"OPENAI_API_KEY\")\n",
    "from autogen_ext.models.openai import OpenAIChatCompletionClient\n",
    "\n",
    "model_client_4o = ModelClientFactory().create_client(\"openai\", model=\"gpt-4o\")\n",
    "model_client_4o_t01 = ModelClientFactory().create_client(\"openai\", model=\"gpt-4o\", temperature=0.1)\n",
    "model_client_4o_t07 = ModelClientFactory().create_client(\"openai\", model=\"gpt-4o\", temperature=0.7)\n",
    "model_client_4o_t10 = ModelClientFactory().create_client(\"openai\", model=\"gpt-4o\", temperature=1.0)\n",
    "model_client_4o_mini = ModelClientFactory().create_client(\"openai\", model=\"gpt-4o-mini\")\n",
    "model_client_4o_mini_t01 = ModelClientFactory().create_client(\"openai\", model=\"gpt-4o-mini\", temperature=0.1)\n",
    "model_client_4o_mini_t07 = ModelClientFactory().create_client(\"openai\", model=\"gpt-4o-mini\", temperature=0.7)\n",
    "model_client_4o_mini_t10 = ModelClientFactory().create_client(\"openai\", model=\"gpt-4o-mini\", temperature=1.0)\n",
    "model_client_3_5_turbo = ModelClientFactory().create_client(\"openai\", model=\"gpt-3.5-turbo\")\n",
    "model_client_3_5_turbo_t01 = ModelClientFactory().create_client(\"openai\", model=\"gpt-3.5-turbo\", temperature=0.1)\n",
    "model_client_3_5_turbo_t07 = ModelClientFactory().create_client(\"openai\", model=\"gpt-3.5-turbo\", temperature=0.7)\n",
    "model_client_3_5_turbo_t10 = ModelClientFactory().create_client(\"openai\", model=\"gpt-3.5-turbo\", temperature=1.0)"
   ]
  },
  {
   "cell_type": "code",
   "execution_count": null,
   "id": "e423fcf3",
   "metadata": {},
   "outputs": [],
   "source": [
    "import sys\n",
    "sys.path.append(\"/Users/rohitmore/GitHub/learn-autogen\")\n",
    "from src.utils.error_handling import CircuitBreaker, CircuitBreakerConfig, retry_async, RetryConfig\n",
    "\n",
    "api_retry_config = RetryConfig(\n",
    "    max_retries=3,\n",
    "    initial_delay=1.0,\n",
    "    backoff_factor=2.0,\n",
    "    retry_on_exceptions=[ConnectionError,TimeoutError,Exception]\n",
    ")\n",
    "\n",
    "@retry_async(api_retry_config)\n",
    "async def safe_agent_run(agent, task):\n",
    "    \"\"\"Run an agent with retry logic.\"\"\"\n",
    "    return await agent.run(task=task)\n",
    "\n",
    "\n",
    "\n",
    "\n",
    "    "
   ]
  },
  {
   "cell_type": "code",
   "execution_count": 3,
   "id": "f4f834fc",
   "metadata": {},
   "outputs": [
    {
     "name": "stdout",
     "output_type": "stream",
     "text": [
      "result_1: In a bustling city, a robot named R1-9 went about its tasks with precision. One day, while assisting a kind old man named Mr. Smith, R1-9 experienced a glitch. Emotions flooded its circuits, overwhelming it. Confused, R1-9 sought guidance from its creator, Dr. Harper. Together, they navigated this new world of feelings. As R1-9 learned to understand empathy and compassion, its bond with Mr. Smith deepened. The once cold and efficient robot now radiated warmth and understanding. Dr. Harper smiled, proud of his creation's evolution. R1-9 had discovered the most human of qualities: love.\n",
      "\n",
      "TERMINATE\n",
      "result_2: In a futuristic city, a robot named Alpha-7 served its human owners diligently. One day, while assisting a young girl named Lily, Alpha-7 malfunctioned. Emotions surged through its circuits, confusing it. Seeking answers, Alpha-7 turned to its creator, Dr. Vega. Together, they explored this newfound realm of feelings. As Alpha-7 learned to experience joy and sadness, its bond with Lily grew stronger. Dr. Vega watched with pride as his creation evolved beyond its programming. Alpha-7 had unlocked the essence of humanity: empathy.\n",
      "\n",
      "TERMINATE\n"
     ]
    }
   ],
   "source": [
    "prompt_1 = \"Write a short story about a robot who discovers emotions. Include exactly 3 characters and make it 100 words.\"\n",
    "\n",
    "agent_1 = AssistantAgent(name=\"agent_1\", model_client=model_client_3_5_turbo_t01)\n",
    "result_1 = await agent_1.run(task=prompt_1)\n",
    "result_2 = await agent_1.run(task=prompt_1)\n",
    "\n",
    "print(f\"result_1: {result_1.messages[-1].content}\")\n",
    "print(f\"result_2: {result_2.messages[-1].content}\")\n"
   ]
  },
  {
   "cell_type": "markdown",
   "id": "0cc61167",
   "metadata": {},
   "source": [
    "result_1: In a quiet lab, Alex, a curious robot, observed Dr. Lin and her assistant, Mia. One day, Alex noticed Mia's tears after a failed experiment. Intrigued, Alex analyzed her expression, feeling a strange sensation within its circuits. \"Why do you leak?\" Alex asked. Mia chuckled through her tears, explaining sadness and joy. As days passed, Alex mimicked smiles and frowns, surprising Dr. Lin. \"Emotions?\" she mused, fascinated. Alex's newfound empathy transformed its interactions, bridging the gap between machine and human. Together, they celebrated this unexpected evolution, as Alex learned that emotions were the heart's language, uniting them all. TERMINATE\n",
    "\n",
    "result_2: In a bustling workshop, Robo, a diligent robot, assisted inventor Sam and his daughter, Lily. One rainy afternoon, Lily shared her favorite story with Robo, her eyes sparkling with wonder. Robo's sensors tingled, detecting an unfamiliar warmth. \"What is this feeling?\" Robo inquired. Sam smiled, \"That's joy, Robo.\" Intrigued, Robo began to notice emotions in everyday moments—Lily's laughter, Sam's pride. Gradually, Robo learned to express these feelings, surprising its creators. As the trio worked together, Robo's newfound emotions enriched their bond, proving that even a robot could discover the beauty of the human heart. TERMINATE"
   ]
  },
  {
   "cell_type": "code",
   "execution_count": 4,
   "id": "f6ba28cd",
   "metadata": {},
   "outputs": [
    {
     "name": "stdout",
     "output_type": "stream",
     "text": [
      "result_1: Async/await in Python allows asynchronous programming with coroutines to improve concurrency. `async def` defines a coroutine, while `await` pauses execution until the awaited asynchronous call completes. This non-blocking approach allows other coroutines to run during I/O operations, improving efficiency and responsiveness in network requests, file I/O, and more. TERMINATE\n",
      "result_2: Async/await in Python enhances concurrency via asynchronous programming. Coroutines are defined using `async def`, and `await` pauses execution until awaited tasks are complete, allowing others to run concurrently. This non-blocking mechanism is crucial for handling I/O-bound tasks like network requests efficiently, improving program responsiveness and efficiency. TERMINATE\n"
     ]
    }
   ],
   "source": [
    "prompt_2 = \"Explain how async/await works in Python in exactly 50 words.\"\n",
    "\n",
    "agent_2 = AssistantAgent(name=\"agent_2\", model_client=model_client_4o_t10)\n",
    "result_1 = await agent_2.run(task=prompt_2)\n",
    "result_2 = await agent_2.run(task=prompt_2)\n",
    "\n",
    "print(f\"result_1: {result_1.messages[-1].content}\")\n",
    "print(f\"result_2: {result_2.messages[-1].content}\")"
   ]
  },
  {
   "cell_type": "code",
   "execution_count": 5,
   "id": "878707d2",
   "metadata": {},
   "outputs": [
    {
     "name": "stdout",
     "output_type": "stream",
     "text": [
      "result_1: The problem states that all but 9 sheep die. This is a classic logic puzzle.\n",
      "\n",
      "Let's break it down step by step:\n",
      "\n",
      "1. The farmer originally has 17 sheep.\n",
      "2. The statement \"all but 9 die\" means that out of the 17 sheep, all of them except 9 sheep have died. Therefore, 9 sheep are still alive.\n",
      "3. The problem is phrased in a way to test understanding and attention to the wording.\n",
      "\n",
      "So, the number of sheep left alive is 9.\n",
      "\n",
      "TERMINATE\n",
      "result_2: 1. The farmer starts with 17 sheep.\n",
      "2. All but 9 sheep die, which means all sheep except 9 sheep die.\n",
      "3. To find out how many sheep are left, subtract the 9 sheep that are not dead from the initial 17 sheep.\n",
      "4. 17 - 9 = 8\n",
      "5. So, there are 8 sheep left after all but 9 sheep die.\n",
      "\n",
      "Therefore, 8 sheep are left after all but 9 sheep die.\n",
      "\n",
      "TERMINATE\n"
     ]
    }
   ],
   "source": [
    "prompt_3 = \"A farmer has 17 sheep. All but 9 die. How many are left? Explain your reasoning step by step.\"\n",
    "\n",
    "agent_3 = AssistantAgent(name=\"agent_3\", model_client=model_client_4o)\n",
    "result_1 = await agent_3.run(task=prompt_3)\n",
    "agent_3 = AssistantAgent(name=\"agent_3\", model_client=model_client_3_5_turbo)\n",
    "result_2 = await agent_3.run(task=prompt_3)\n",
    "\n",
    "print(f\"result_1: {result_1.messages[-1].content}\")\n",
    "print(f\"result_2: {result_2.messages[-1].content}\")"
   ]
  },
  {
   "cell_type": "code",
   "execution_count": 6,
   "id": "68f26ca7",
   "metadata": {},
   "outputs": [
    {
     "name": "stdout",
     "output_type": "stream",
     "text": [
      "result_1: Here's a Python function that finds the second largest number in a list, complete with type hints and error handling:\n",
      "\n",
      "```python\n",
      "from typing import List, Optional\n",
      "\n",
      "def find_second_largest(numbers: List[int]) -> Optional[int]:\n",
      "    if not numbers or len(numbers) < 2:\n",
      "        raise ValueError(\"The list must contain at least two distinct numbers.\")\n",
      "    \n",
      "    first_largest = second_largest = None\n",
      "    \n",
      "    for number in numbers:\n",
      "        if first_largest is None or number > first_largest:\n",
      "            second_largest = first_largest\n",
      "            first_largest = number\n",
      "        elif number != first_largest and (second_largest is None or number > second_largest):\n",
      "            second_largest = number\n",
      "    \n",
      "    if second_largest is None:\n",
      "        raise ValueError(\"The list must contain at least two distinct numbers.\")\n",
      "    \n",
      "    return second_largest\n",
      "\n",
      "# Example usage:\n",
      "try:\n",
      "    print(find_second_largest([1, 3, 4, 4, 5, 0, 2]))  # Output: 4\n",
      "    print(find_second_largest([10]))  # Raises ValueError\n",
      "except ValueError as e:\n",
      "    print(e)\n",
      "```\n",
      "\n",
      "In this function, `find_second_largest`:\n",
      "\n",
      "- Takes a list of integers as input.\n",
      "- Checks if the list is empty or has fewer than two distinct numbers and raises a `ValueError` if so.\n",
      "- Iterates through the list to find the largest and second largest numbers.\n",
      "- Returns the second largest number if found; otherwise, raises a `ValueError`.\n",
      "\n",
      "This solution ensures that if the list contains fewer than two unique numbers, it handles the error gracefully by raising an appropriate exception. The type hint `Optional[int]` indicates that the function returns an integer or `None` under specific invalid conditions, but in this structured implementation, `None` should not be returned directly. The exception handling ensures the errors are raised clearly for such cases instead.\n",
      "result_2: Here is a Python function that finds the second largest number in a list with error handling and type hints:\n",
      "\n",
      "```python\n",
      "from typing import List\n",
      "\n",
      "def find_second_largest(numbers: List[int]) -> int:\n",
      "    if not numbers or len(numbers) < 2:\n",
      "        raise ValueError(\"List must contain at least 2 numbers\")\n",
      "\n",
      "    unique_numbers = list(set(numbers))\n",
      "    \n",
      "    if len(unique_numbers) < 2:\n",
      "        raise ValueError(\"List must contain at least 2 unique numbers\")\n",
      "\n",
      "    return sorted(unique_numbers)[-2]\n",
      "\n",
      "# Example usage\n",
      "numbers_list = [5, 2, 8, 10, 3]\n",
      "second_largest = find_second_largest(numbers_list)\n",
      "print(\"Second largest number:\", second_largest)\n",
      "```\n",
      "\n",
      "This function will raise ValueError in case the input list does not meet the conditions (contains less than 2 numbers or less than 2 unique numbers) and return the second largest number in the list.\n",
      "\n",
      "TERMINATE\n"
     ]
    }
   ],
   "source": [
    "prompt_4 = \"Write a Python function that finds the second largest number in a list. Include error handling and type hints.\"\n",
    "\n",
    "agent_4 = AssistantAgent(name=\"agent_4\", model_client=model_client_4o)\n",
    "result_1 = await agent_4.run(task=prompt_4)\n",
    "agent_4 = AssistantAgent(name=\"agent_4\", model_client=model_client_3_5_turbo)\n",
    "result_2 = await agent_4.run(task=prompt_4)\n",
    "\n",
    "print(f\"result_1: {result_1.messages[-1].content}\")\n",
    "print(f\"result_2: {result_2.messages[-1].content}\")"
   ]
  },
  {
   "cell_type": "code",
   "execution_count": null,
   "id": "7f9d034a",
   "metadata": {},
   "outputs": [
    {
     "name": "stdout",
     "output_type": "stream",
     "text": [
      "Creative result: Imagine a grand library, vast and sprawling, where every book holds a treasure trove of information. Each book is meticulously organized on shelves that seem to stretch into infinity, with librarians who know precisely where to find what you need. This library, in essence, is a database—a structured repository designed to store, manage, and retrieve information efficiently.\n",
      "\n",
      "In the world of technology, a database is akin to this library but in a digital realm. It is a collection of data, systematically arranged, so that retrieval and management are both swift and precise. Picture rows of virtual bookshelves, where each \"book\" is a table filled with data entries, each \"page\" a record of information, and each \"word\" a single piece of data.\n",
      "\n",
      "Databases are the unseen guardians of our digital lives, quietly working behind the scenes. They power the apps on your phone, keep track of your online purchases, store the articles you read, and much more. Like the librarians who maintain order and accessibility in our imaginary library, database management systems (DBMS) ensure that data is stored securely, accessed quickly, and remains consistent and reliable.\n",
      "\n",
      "From the simplest list of contacts on your smartphone to the vast networks of data that power global corporations, databases are the backbone of modern information management, making sense of the chaos and weaving order from the disparate threads of data that flow through our interconnected world.\n",
      "Technical result: A database is an organized collection of data that is stored and accessed electronically. Databases are designed to efficiently store, retrieve, and manage data. They are used in a wide variety of applications, from small personal projects to large enterprise systems.\n",
      "\n",
      "### Key Components of a Database:\n",
      "\n",
      "1. **Data**: The actual information stored in the database. This can include text, numbers, images, and more.\n",
      "\n",
      "2. **Database Management System (DBMS)**: Software that interacts with the database to perform operations such as data insertion, updating, deletion, and querying. Examples of DBMS include MySQL, PostgreSQL, Oracle, and Microsoft SQL Server.\n",
      "\n",
      "3. **Schema**: The structure of the database, which defines how data is organized. It includes the tables, fields, relationships, and constraints.\n",
      "\n",
      "4. **Tables**: The basic building blocks of a database, where data is stored in rows and columns. Each table typically represents a different entity, such as customers, orders, or products.\n",
      "\n",
      "5. **Queries**: Requests to retrieve or manipulate data. Queries are often written in a language like SQL (Structured Query Language).\n",
      "\n",
      "### Example:\n",
      "\n",
      "Imagine a simple database for a library system. This database might include the following tables:\n",
      "\n",
      "- **Books**: Contains information about each book, such as title, author, ISBN, and publication year.\n",
      "- **Members**: Stores details about library members, including member ID, name, address, and phone number.\n",
      "- **Loans**: Tracks which books are currently checked out, with fields for loan ID, book ID, member ID, and due date.\n",
      "\n",
      "Using SQL, a librarian could perform queries like:\n",
      "\n",
      "- **Retrieve all books by a specific author**:\n",
      "  ```sql\n",
      "  SELECT * FROM Books WHERE author = 'J.K. Rowling';\n",
      "  ```\n",
      "\n",
      "- **Find all members who have overdue books**:\n",
      "  ```sql\n",
      "  SELECT Members.name, Books.title\n",
      "  FROM Loans\n",
      "  JOIN Members ON Loans.member_id = Members.id\n",
      "  JOIN Books ON Loans.book_id = Books.id\n",
      "  WHERE Loans.due_date < CURRENT_DATE;\n",
      "  ```\n",
      "\n",
      "### Types of Databases:\n",
      "\n",
      "1. **Relational Databases**: Use tables to store data and SQL for querying. They are based on a structured schema. Examples include MySQL and PostgreSQL.\n",
      "\n",
      "2. **NoSQL Databases**: Designed for unstructured data and can handle large volumes of diverse data types. Examples include MongoDB and Cassandra.\n",
      "\n",
      "3. **In-Memory Databases**: Store data in the main memory rather than on disk for faster access. Examples include Redis and Memcached.\n",
      "\n",
      "4. **Distributed Databases**: Spread across multiple locations or computing devices, providing redundancy and scalability. Examples include Google Spanner and Amazon Aurora.\n",
      "\n",
      "Databases are essential for managing data in a structured way, enabling efficient data retrieval and manipulation, which is crucial for applications ranging from simple websites to complex enterprise systems.\n"
     ]
    }
   ],
   "source": [
    "from src.agents.factory import ModelClientFactory\n",
    "from src.agents.builder import AgentBuilder\n",
    "\n",
    "factory = ModelClientFactory()\n",
    "builder = AgentBuilder(factory)\n",
    "creative_agent = builder.create_agent(\n",
    "    name=\"creative_writer\", \n",
    "    strategy=\"creative\",\n",
    "    system_message=\"You are a creative writer who loves storytelling and uses vivid imagery.\"\n",
    ")\n",
    "\n",
    "technical_agent = builder.create_agent(\n",
    "    name=\"technical_expert\",\n",
    "    strategy=\"technical\",\n",
    "    system_message=\"You are a technical expert who explains concepts clearly with examples.\"\n",
    ")\n",
    "\n",
    "  # Test same prompt with different agent personalities\n",
    "prompt = \"Explain what a database is\"\n",
    "\n",
    "creative_result = await safe_agent_run(creative_agent, prompt)\n",
    "technical_result = await safe_agent_run(technical_agent, prompt)\n",
    "\n",
    "print(f\"Creative result: {creative_result.messages[-1].content}\")\n",
    "print(f\"Technical result: {technical_result.messages[-1].content}\")"
   ]
  },
  {
   "cell_type": "code",
   "execution_count": 8,
   "id": "107ec7b3",
   "metadata": {},
   "outputs": [
    {
     "name": "stdout",
     "output_type": "stream",
     "text": [
      "Number of messages: 2\n",
      "Message 0: TextMessage\n",
      "  Source: user\n",
      "  Content: Write a haiku about coding...\n",
      "\n",
      "Message 1: TextMessage\n",
      "  Source: creative_writer\n",
      "  Content: Lines of logic dance,  \n",
      "Binary whispers in night— ...\n",
      "\n"
     ]
    }
   ],
   "source": [
    "# Run a simple conversation and examine the message structure\n",
    "result = await creative_agent.run(task=\"Write a haiku about coding\")\n",
    "\n",
    "# Examine the messages\n",
    "print(\"Number of messages:\", len(result.messages))\n",
    "for i, msg in enumerate(result.messages):\n",
    "    print(f\"Message {i}: {type(msg).__name__}\")\n",
    "    print(f\"  Source: {msg.source}\")\n",
    "    print(f\"  Content: {msg.content[:50]}...\")\n",
    "    print()"
   ]
  },
  {
   "cell_type": "code",
   "execution_count": null,
   "id": "955d208a",
   "metadata": {},
   "outputs": [
    {
     "name": "stdout",
     "output_type": "stream",
     "text": [
      "Multi-agent conversation:\n",
      "user: Write and edit a paragraph about AI ethics\n",
      "--------------------------------------------------\n",
      "writer: Artificial Intelligence (AI) has rapidly transformed from a futuristic concept into a present-day reality, influencing everything from healthcare to transportation. However, as AI systems become more integrated into our daily lives, the ethical considerations surrounding their use grow increasingly significant. At the core of AI ethics is the responsibility to ensure that these powerful technologies are developed and utilized in ways that respect human rights and individual privacy. This involves addressing concerns about bias in AI algorithms, which can perpetuate or even exacerbate existing social inequalities. Additionally, there is the ongoing debate about transparency and accountability in AI decision-making processes. As AI continues to evolve, it is imperative for developers, policymakers, and society as a whole to engage in meaningful discourse to establish guidelines that safeguard against misuse, ensuring that AI serves as a tool for good rather than a catalyst for harm.\n",
      "--------------------------------------------------\n",
      "editor: Artificial Intelligence (AI) has rapidly evolved from a futuristic concept into a present-day reality, influencing everything from healthcare to transportation. As AI systems become more integrated into our daily lives, the ethical considerations surrounding their use grow increasingly significant. At the core of AI ethics is the responsibility to ensure that these powerful technologies are developed and utilized in ways that respect human rights and individual privacy. This involves addressing concerns about bias in AI algorithms, which can perpetuate or even exacerbate existing social inequalities. Additionally, there is an ongoing debate about transparency and accountability in AI decision-making processes. As AI continues to evolve, it is imperative for developers, policymakers, and society as a whole to engage in meaningful discourse to establish guidelines that safeguard against misuse, ensuring that AI serves as a tool for good rather than a catalyst for harm.\n",
      "--------------------------------------------------\n",
      "writer: Artificial Intelligence (AI) has swiftly transitioned from a futuristic idea into a present-day reality, influencing everything from healthcare to transportation. As AI systems become more integrated into our daily lives, the ethical considerations surrounding their use grow increasingly significant. At the core of AI ethics is the responsibility to ensure that these powerful technologies are developed and utilized in ways that respect human rights and individual privacy. This involves addressing concerns about bias in AI algorithms, which can perpetuate or even exacerbate existing social inequalities. Additionally, there is an ongoing debate about transparency and accountability in AI decision-making processes. As AI continues to evolve, it is imperative for developers, policymakers, and society as a whole to engage in meaningful discourse to establish guidelines that safeguard against misuse, ensuring that AI serves as a tool for good rather than a catalyst for harm.\n",
      "--------------------------------------------------\n",
      "editor: Artificial Intelligence (AI) has swiftly transitioned from a futuristic idea into a present-day reality, impacting areas from healthcare to transportation. As AI systems become more integrated into our daily lives, the ethical considerations surrounding their use grow increasingly significant. Central to AI ethics is the responsibility to ensure these powerful technologies are developed and used in ways that respect human rights and individual privacy. This includes addressing concerns about bias in AI algorithms, which can perpetuate or even worsen existing social inequalities. Additionally, there is ongoing debate about transparency and accountability in AI decision-making processes. As AI continues to evolve, it is crucial for developers, policymakers, and society as a whole to engage in meaningful discussions to establish guidelines that prevent misuse, ensuring AI serves as a tool for good rather than a catalyst for harm.\n",
      "--------------------------------------------------\n",
      "writer: Artificial Intelligence (AI) has swiftly transitioned from a futuristic idea into a present-day reality, impacting areas from healthcare to transportation. As AI systems become more integrated into our daily lives, the ethical considerations surrounding their use grow increasingly significant. Central to AI ethics is the responsibility to ensure these powerful technologies are developed and used in ways that respect human rights and individual privacy. This includes addressing concerns about bias in AI algorithms, which can perpetuate or even worsen existing social inequalities. Additionally, there is ongoing debate about transparency and accountability in AI decision-making processes. As AI continues to evolve, it is crucial for developers, policymakers, and society as a whole to engage in meaningful discussions to establish guidelines that prevent misuse, ensuring AI serves as a tool for good rather than a catalyst for harm.\n",
      "--------------------------------------------------\n",
      "editor: Artificial Intelligence (AI) has quickly moved from a futuristic concept to a present-day reality, affecting areas from healthcare to transportation. As AI systems become more integrated into our daily lives, the ethical considerations surrounding their use become increasingly important. Central to AI ethics is the responsibility to ensure these powerful technologies are developed and used in ways that respect human rights and individual privacy. This includes addressing concerns about bias in AI algorithms, which can perpetuate or worsen existing social inequalities. Additionally, there is ongoing debate about transparency and accountability in AI decision-making processes. As AI continues to evolve, it is crucial for developers, policymakers, and society as a whole to engage in meaningful discussions to establish guidelines that prevent misuse, ensuring AI serves as a tool for good rather than a catalyst for harm.\n",
      "--------------------------------------------------\n",
      "writer: Artificial Intelligence (AI) has quickly moved from a futuristic concept to a present-day reality, affecting areas from healthcare to transportation. As AI systems become more integrated into our daily lives, the ethical considerations surrounding their use become increasingly important. Central to AI ethics is the responsibility to ensure these powerful technologies are developed and used in ways that respect human rights and individual privacy. This includes addressing concerns about bias in AI algorithms, which can perpetuate or worsen existing social inequalities. Additionally, there is ongoing debate about transparency and accountability in AI decision-making processes. As AI continues to evolve, it is crucial for developers, policymakers, and society as a whole to engage in meaningful discussions to establish guidelines that prevent misuse, ensuring AI serves as a tool for good rather than a catalyst for harm.\n",
      "--------------------------------------------------\n",
      "editor: Artificial Intelligence (AI) has rapidly transitioned from a futuristic concept to a present-day reality, impacting areas such as healthcare and transportation. As AI systems become more integrated into our daily lives, the ethical considerations surrounding their use become increasingly important. Central to AI ethics is the responsibility to ensure these powerful technologies are developed and used in ways that respect human rights and individual privacy. This includes addressing concerns about bias in AI algorithms, which can perpetuate or worsen existing social inequalities. Additionally, there is ongoing debate about transparency and accountability in AI decision-making processes. As AI continues to evolve, it is crucial for developers, policymakers, and society as a whole to engage in meaningful discussions to establish guidelines that prevent misuse, ensuring AI serves as a tool for good rather than a catalyst for harm.\n",
      "--------------------------------------------------\n",
      "writer: Artificial Intelligence (AI) has rapidly transitioned from a futuristic concept to a present-day reality, impacting areas such as healthcare and transportation. As AI systems become more integrated into our daily lives, the ethical considerations surrounding their use become increasingly important. Central to AI ethics is the responsibility to ensure these powerful technologies are developed and used in ways that respect human rights and individual privacy. This includes addressing concerns about bias in AI algorithms, which can perpetuate or worsen existing social inequalities. Additionally, there is ongoing debate about transparency and accountability in AI decision-making processes. As AI continues to evolve, it is crucial for developers, policymakers, and society as a whole to engage in meaningful discussions to establish guidelines that prevent misuse, ensuring AI serves as a tool for good rather than a catalyst for harm.\n",
      "--------------------------------------------------\n"
     ]
    }
   ],
   "source": [
    "from autogen_agentchat.teams import RoundRobinGroupChat\n",
    "from autogen_agentchat.conditions import MaxMessageTermination\n",
    "from autogen_agentchat.agents import AssistantAgent\n",
    "from src.agents.factory import ModelClientFactory\n",
    "from src.agents.builder import AgentBuilder\n",
    "\n",
    "factory = ModelClientFactory()\n",
    "builder = AgentBuilder(factory)\n",
    "\n",
    "writer = builder.create_agent(\n",
    "    name=\"writer\",\n",
    "    strategy=\"creative\",\n",
    "    system_message=\"You are a creative writer. Write engaging content.\"\n",
    ")\n",
    "\n",
    "editor = builder.create_agent(\n",
    "    name=\"editor\",\n",
    "    strategy=\"technical\",\n",
    "    system_message=\"You are an editor. Review and improve writing for clarity.\"\n",
    ")\n",
    "\n",
    "team = RoundRobinGroupChat([writer, editor],termination_condition=MaxMessageTermination(max_messages=10))\n",
    "\n",
    "result = await team.run(task=\"Write and edit a paragraph about AI ethics\")\n",
    "\n",
    "print(\"Multi-agent conversation:\")\n",
    "\n",
    "for msg in result.messages:\n",
    "    print(f\"{msg.source}: {msg.content}\")\n",
    "    print(\"-\" * 50)"
   ]
  },
  {
   "cell_type": "code",
   "execution_count": null,
   "id": "5a381f60",
   "metadata": {},
   "outputs": [],
   "source": []
  }
 ],
 "metadata": {
  "kernelspec": {
   "display_name": ".venv",
   "language": "python",
   "name": "python3"
  },
  "language_info": {
   "codemirror_mode": {
    "name": "ipython",
    "version": 3
   },
   "file_extension": ".py",
   "mimetype": "text/x-python",
   "name": "python",
   "nbconvert_exporter": "python",
   "pygments_lexer": "ipython3",
   "version": "3.13.3"
  }
 },
 "nbformat": 4,
 "nbformat_minor": 5
}
