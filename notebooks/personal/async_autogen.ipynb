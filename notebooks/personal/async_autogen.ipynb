{
 "cells": [
  {
   "cell_type": "code",
   "execution_count": 1,
   "id": "c6208b8f",
   "metadata": {},
   "outputs": [
    {
     "name": "stdout",
     "output_type": "stream",
     "text": [
      "Hello World\n"
     ]
    }
   ],
   "source": [
    "print(\"Hello World\")"
   ]
  },
  {
   "cell_type": "code",
   "execution_count": 4,
   "id": "70dc5ab9",
   "metadata": {},
   "outputs": [],
   "source": [
    "import os\n",
    "from autogen_agentchat.agents import AssistantAgent\n",
    "from autogen_ext.models.openai import OpenAIChatCompletionClient\n",
    "\n",
    "from dotenv import load_dotenv\n",
    "load_dotenv()\n",
    "\n",
    "os.environ[\"OPENAI_API_KEY\"] = os.getenv(\"OPENAI_API_KEY\")\n"
   ]
  },
  {
   "cell_type": "code",
   "execution_count": 5,
   "id": "d0a53801",
   "metadata": {},
   "outputs": [],
   "source": [
    "model_client = OpenAIChatCompletionClient(model=\"gpt-4o-mini\")\n"
   ]
  },
  {
   "cell_type": "code",
   "execution_count": null,
   "id": "a7050e64",
   "metadata": {},
   "outputs": [
    {
     "ename": "TypeError",
     "evalue": "gather() got an unexpected keyword argument 'semaphore'",
     "output_type": "error",
     "traceback": [
      "\u001b[31m---------------------------------------------------------------------------\u001b[39m",
      "\u001b[31mTypeError\u001b[39m                                 Traceback (most recent call last)",
      "\u001b[36mCell\u001b[39m\u001b[36m \u001b[39m\u001b[32mIn[14]\u001b[39m\u001b[32m, line 13\u001b[39m\n\u001b[32m      6\u001b[39m tasks = [\n\u001b[32m      7\u001b[39m     agent_1.run(task=\u001b[33m\"\u001b[39m\u001b[33mWhat is the capital of France?\u001b[39m\u001b[33m\"\u001b[39m),\n\u001b[32m      8\u001b[39m     agent_2.run(task=\u001b[33m\"\u001b[39m\u001b[33mWhat is 2 + 2?\u001b[39m\u001b[33m\"\u001b[39m),\n\u001b[32m      9\u001b[39m     agent_3.run(task=\u001b[33m\"\u001b[39m\u001b[33mSolve world hunger in 5 words\u001b[39m\u001b[33m\"\u001b[39m)\n\u001b[32m     10\u001b[39m ]\n\u001b[32m     12\u001b[39m semaphore = asyncio.Semaphore(\u001b[32m2\u001b[39m)\n\u001b[32m---> \u001b[39m\u001b[32m13\u001b[39m results = \u001b[38;5;28;01mawait\u001b[39;00m \u001b[43masyncio\u001b[49m\u001b[43m.\u001b[49m\u001b[43mgather\u001b[49m\u001b[43m(\u001b[49m\u001b[43m*\u001b[49m\u001b[43mtasks\u001b[49m\u001b[43m,\u001b[49m\u001b[43m \u001b[49m\u001b[43mreturn_exceptions\u001b[49m\u001b[43m=\u001b[49m\u001b[38;5;28;43;01mTrue\u001b[39;49;00m\u001b[43m,\u001b[49m\u001b[43m \u001b[49m\u001b[43msemaphore\u001b[49m\u001b[43m=\u001b[49m\u001b[43msemaphore\u001b[49m\u001b[43m)\u001b[49m\n\u001b[32m     14\u001b[39m \u001b[38;5;28mprint\u001b[39m(results)\n",
      "\u001b[31mTypeError\u001b[39m: gather() got an unexpected keyword argument 'semaphore'"
     ]
    }
   ],
   "source": [
    "import asyncio\n",
    "agent_1 = AssistantAgent(name=\"georgraphy_expert\", model_client=model_client)\n",
    "agent_2 = AssistantAgent(name=\"math_expert\", model_client=model_client)\n",
    "agent_3 = AssistantAgent(name=\"impossible_agent\", model_client=model_client)\n",
    "\n",
    "tasks = [\n",
    "    agent_1.run(task=\"What is the capital of France?\"),\n",
    "    agent_2.run(task=\"What is 2 + 2?\"),\n",
    "    agent_3.run(task=\"Solve world hunger in 5 words\")\n",
    "]\n",
    "\n",
    "results = await asyncio.gather(*tasks, return_exceptions=True)\n",
    "print(results)"
   ]
  },
  {
   "cell_type": "code",
   "execution_count": 12,
   "id": "848f7122",
   "metadata": {},
   "outputs": [
    {
     "name": "stdout",
     "output_type": "stream",
     "text": [
      "Task timed out\n"
     ]
    }
   ],
   "source": [
    "async def test_timeout():\n",
    "    try:\n",
    "        result = await asyncio.wait_for(\n",
    "            agent_1.run(task=\"Write a 10000-word essay\"),\n",
    "            timeout = 0.1\n",
    "        )\n",
    "    except asyncio.TimeoutError:\n",
    "        print(\"Task timed out\")\n",
    "    except Exception as e:\n",
    "        print(f\"An error occurred: {e}\")\n",
    "    else:\n",
    "        print(f\"Task completed with result: {result}\")\n",
    "\n",
    "await test_timeout()"
   ]
  },
  {
   "cell_type": "code",
   "execution_count": 13,
   "id": "022f387b",
   "metadata": {},
   "outputs": [
    {
     "name": "stdout",
     "output_type": "stream",
     "text": [
      "An error occurred: model_info is required when model name is not a valid OpenAI model\n"
     ]
    }
   ],
   "source": [
    "try:\n",
    "    bad_client = OpenAIChatCompletionClient(model=\"kahipan\", api_key=\"bad_key\")\n",
    "    bad_agent = AssistantAgent(name=\"bad_agent\", model_client=bad_client)\n",
    "    result = await bad_agent.run(task=\"What is the capital of France?\")\n",
    "except Exception as e:\n",
    "    print(f\"An error occurred: {e}\")\n",
    "else:\n",
    "    print(f\"Task completed with result: {result}\")"
   ]
  },
  {
   "cell_type": "code",
   "execution_count": 22,
   "id": "c2397967",
   "metadata": {},
   "outputs": [
    {
     "name": "stderr",
     "output_type": "stream",
     "text": [
      "/opt/homebrew/Cellar/python@3.13/3.13.3/Frameworks/Python.framework/Versions/3.13/lib/python3.13/threading.py:139: RuntimeWarning: coroutine 'test_timeout' was never awaited\n",
      "  return _CRLock(*args, **kwargs)\n",
      "RuntimeWarning: Enable tracemalloc to get the object allocation traceback\n"
     ]
    },
    {
     "name": "stdout",
     "output_type": "stream",
     "text": [
      "Time taken: 0.6929941177368164 seconds for total 10 tasks for 20 concurrent tasks\n"
     ]
    }
   ],
   "source": [
    "import asyncio\n",
    "import time\n",
    "\n",
    "MAX_CONCURRENT_TASKS = 20\n",
    "semaphore = asyncio.Semaphore(MAX_CONCURRENT_TASKS)\n",
    "\n",
    "async def run_agent_with_limit(agent, task):\n",
    "    async with semaphore:\n",
    "        return await agent.run(task=task)\n",
    "    \n",
    "tasks = []\n",
    "\n",
    "for i in range(10):\n",
    "    agent = AssistantAgent(name=f\"agent_{i}\", model_client=model_client)\n",
    "    task = run_agent_with_limit(agent, f\"What is {i} + 1?\")\n",
    "    tasks.append(task)\n",
    "\n",
    "start_time = time.time()\n",
    "results = await asyncio.gather(*tasks)\n",
    "end_time = time.time()\n",
    "    \n",
    "print(f\"Time taken: {end_time - start_time} seconds for total {len(tasks)} tasks for {MAX_CONCURRENT_TASKS} concurrent tasks\")\n",
    "\n"
   ]
  },
  {
   "cell_type": "markdown",
   "id": "6f7e2736",
   "metadata": {},
   "source": [
    "### Time taken: 6.659104108810425 seconds for total 10 tasks for 1 concurrent tasks\n",
    "### Time taken: 1.3516910076141357 seconds for total 10 tasks for 5 concurrent tasks\n",
    "### Time taken: 0.9615240097045898 seconds for total 10 tasks for 10 concurrent tasks\n",
    "### Time taken: 0.6929941177368164 seconds for total 10 tasks for 20 concurrent tasks\n"
   ]
  },
  {
   "cell_type": "code",
   "execution_count": 23,
   "id": "56b848ae",
   "metadata": {},
   "outputs": [
    {
     "name": "stdout",
     "output_type": "stream",
     "text": [
      "Time taken for unlimited concurrent tasks: 0.6943092346191406 seconds\n",
      "Time taken for limited concurrent tasks: 1.3454647064208984 seconds\n"
     ]
    }
   ],
   "source": [
    "agents = []\n",
    "for i in range(10):\n",
    "    agent = AssistantAgent(name=f\"agent_{i}\", model_client=model_client)\n",
    "    agents.append(agent)\n",
    "\n",
    "start_time = time.time()\n",
    "\n",
    "results_unlimited = await asyncio.gather(*[\n",
    "    agent.run(task=f\"What is {i} + 1?\")\n",
    "    for i, agent in enumerate(agents)   \n",
    "])\n",
    "\n",
    "unlimited_time = time.time() - start_time\n",
    "\n",
    "start_time = time.time()\n",
    "\n",
    "results_limited = await asyncio.gather(*[\n",
    "    run_agent_with_limit(agent, f\"What is {i} + 1?\")\n",
    "    for i, agent in enumerate(agents)\n",
    "])\n",
    "\n",
    "limited_time = time.time() - start_time\n",
    "\n",
    "print(f\"Time taken for unlimited concurrent tasks: {unlimited_time} seconds\")\n",
    "print(f\"Time taken for limited concurrent tasks: {limited_time} seconds\")"
   ]
  },
  {
   "cell_type": "code",
   "execution_count": 25,
   "id": "4b6d3b2e",
   "metadata": {},
   "outputs": [
    {
     "name": "stdout",
     "output_type": "stream",
     "text": [
      "Starting task 1/50\n",
      "Starting task 2/50\n",
      "Starting task 3/50\n",
      "✅ Task 2 completed (1/50)\n",
      "Starting task 4/50\n",
      "✅ Task 1 completed (2/50)\n",
      "✅ Task 3 completed (3/50)\n",
      "Starting task 5/50\n",
      "Starting task 6/50\n",
      "✅ Task 5 completed (4/50)\n",
      "Starting task 7/50\n",
      "✅ Task 6 completed (5/50)\n",
      "Starting task 8/50\n",
      "✅ Task 4 completed (6/50)\n",
      "Starting task 9/50\n",
      "✅ Task 8 completed (7/50)\n",
      "Starting task 10/50\n",
      "✅ Task 7 completed (8/50)\n",
      "Starting task 11/50\n",
      "✅ Task 9 completed (9/50)\n",
      "Starting task 12/50\n",
      "✅ Task 10 completed (10/50)\n",
      "Starting task 13/50\n",
      "✅ Task 11 completed (11/50)\n",
      "Starting task 14/50\n",
      "✅ Task 12 completed (12/50)\n",
      "Starting task 15/50\n",
      "✅ Task 13 completed (13/50)\n",
      "Starting task 16/50\n",
      "✅ Task 14 completed (14/50)\n",
      "Starting task 17/50\n",
      "✅ Task 15 completed (15/50)\n",
      "Starting task 18/50\n",
      "✅ Task 16 completed (16/50)\n",
      "Starting task 19/50\n",
      "✅ Task 18 completed (17/50)\n",
      "Starting task 20/50\n",
      "✅ Task 19 completed (18/50)\n",
      "Starting task 21/50\n",
      "✅ Task 17 completed (19/50)\n",
      "Starting task 22/50\n",
      "✅ Task 20 completed (20/50)\n",
      "Starting task 23/50\n",
      "✅ Task 21 completed (21/50)\n",
      "Starting task 24/50\n",
      "✅ Task 22 completed (22/50)\n",
      "Starting task 25/50\n",
      "✅ Task 25 completed (23/50)\n",
      "Starting task 26/50\n",
      "✅ Task 23 completed (24/50)\n",
      "Starting task 27/50\n",
      "✅ Task 24 completed (25/50)\n",
      "Starting task 28/50\n",
      "✅ Task 27 completed (26/50)\n",
      "Starting task 29/50\n",
      "✅ Task 26 completed (27/50)\n",
      "Starting task 30/50\n",
      "✅ Task 28 completed (28/50)\n",
      "Starting task 31/50\n",
      "✅ Task 30 completed (29/50)\n",
      "Starting task 32/50\n",
      "✅ Task 29 completed (30/50)\n",
      "Starting task 33/50\n",
      "✅ Task 31 completed (31/50)\n",
      "Starting task 34/50\n",
      "✅ Task 32 completed (32/50)\n",
      "Starting task 35/50\n",
      "✅ Task 33 completed (33/50)\n",
      "Starting task 36/50\n",
      "✅ Task 34 completed (34/50)\n",
      "Starting task 37/50\n",
      "✅ Task 36 completed (35/50)\n",
      "Starting task 38/50\n",
      "✅ Task 35 completed (36/50)\n",
      "Starting task 39/50\n",
      "✅ Task 37 completed (37/50)\n",
      "Starting task 40/50\n",
      "✅ Task 39 completed (38/50)\n",
      "Starting task 41/50\n",
      "✅ Task 38 completed (39/50)\n",
      "Starting task 42/50\n",
      "✅ Task 41 completed (40/50)\n",
      "Starting task 43/50\n",
      "✅ Task 42 completed (41/50)\n",
      "Starting task 44/50\n",
      "✅ Task 40 completed (42/50)\n",
      "Starting task 45/50\n",
      "✅ Task 43 completed (43/50)\n",
      "Starting task 46/50\n",
      "✅ Task 44 completed (44/50)\n",
      "Starting task 47/50\n",
      "✅ Task 46 completed (45/50)\n",
      "Starting task 48/50\n",
      "✅ Task 45 completed (46/50)\n",
      "Starting task 49/50\n",
      "✅ Task 47 completed (47/50)\n",
      "Starting task 50/50\n",
      "✅ Task 49 completed (48/50)\n",
      "✅ Task 48 completed (49/50)\n",
      "✅ Task 50 completed (50/50)\n",
      "\n",
      "🎉 Summary:\n",
      "Total time: 7.46 seconds\n",
      "Successful: 50\n",
      "Failed: 0\n"
     ]
    }
   ],
   "source": [
    "import asyncio\n",
    "import time\n",
    "\n",
    "MAX_CONCURRENT_TASKS = 3\n",
    "semaphore = asyncio.Semaphore(MAX_CONCURRENT_TASKS)\n",
    "\n",
    "  # Progress tracking\n",
    "progress = {\"completed\": 0, \"total\": 50, \"errors\": 0, \"successes\": 0}\n",
    "\n",
    "async def run_agent_with_limit(agent, task, task_id):\n",
    "    async with semaphore:\n",
    "        try:\n",
    "            print(f\"Starting task {task_id + 1}/{progress['total']}\")\n",
    "            result = await agent.run(task=task)\n",
    "\n",
    "            # Update progress\n",
    "            progress[\"completed\"] += 1\n",
    "            print(f\"✅ Task {task_id + 1} completed ({progress['completed']}/{progress['total']})\")\n",
    "\n",
    "            return {\"success\": True, \"task_id\": task_id, \"result\": result}\n",
    "        except Exception as e:\n",
    "            progress[\"completed\"] += 1\n",
    "            print(f\"❌ Task {task_id + 1} failed ({progress['completed']}/{progress['total']}): {e}\")\n",
    "            return {\"success\": False, \"task_id\": task_id, \"error\": str(e)}\n",
    "\n",
    "  # Create tasks\n",
    "tasks = []\n",
    "for i in range(50):\n",
    "    agent = AssistantAgent(name=f\"agent_{i}\", model_client=model_client)\n",
    "    task = run_agent_with_limit(agent, f\"What is {i} + 1?\", i)\n",
    "    tasks.append(task)\n",
    "\n",
    "# Run with timing\n",
    "start_time = time.time()\n",
    "results = await asyncio.gather(*tasks)\n",
    "end_time = time.time()\n",
    "\n",
    "# Analyze results\n",
    "successful = [r for r in results if r[\"success\"]]\n",
    "failed = [r for r in results if not r[\"success\"]]\n",
    "\n",
    "print(f\"\\n🎉 Summary:\")\n",
    "print(f\"Total time: {end_time - start_time:.2f} seconds\")\n",
    "print(f\"Successful: {len(successful)}\")\n",
    "print(f\"Failed: {len(failed)}\")\n",
    "\n",
    "if failed:\n",
    "    print(f\"\\n❌ Failed tasks:\")\n",
    "    for f in failed:\n",
    "        print(f\"  Task {f['task_id']}: {f['error']}\")"
   ]
  },
  {
   "cell_type": "code",
   "execution_count": null,
   "id": "b25ae6b9",
   "metadata": {},
   "outputs": [],
   "source": []
  }
 ],
 "metadata": {
  "kernelspec": {
   "display_name": ".venv",
   "language": "python",
   "name": "python3"
  },
  "language_info": {
   "codemirror_mode": {
    "name": "ipython",
    "version": 3
   },
   "file_extension": ".py",
   "mimetype": "text/x-python",
   "name": "python",
   "nbconvert_exporter": "python",
   "pygments_lexer": "ipython3",
   "version": "3.13.3"
  }
 },
 "nbformat": 4,
 "nbformat_minor": 5
}
